{
 "cells": [
  {
   "cell_type": "markdown",
   "id": "fb152764",
   "metadata": {},
   "source": [
    "# California Housing ML Project\n",
    "\n",
    "## Objective\n",
    "This project demonstrates a complete **end-to-end regression pipeline** using the **California Housing dataset**. It aims to predict median house prices based on various socio-economic and geographic features. \n",
    "\n",
    "---\n",
    "\n",
    "## Why This Project?\n",
    "\n",
    "-  **Real-world Data**: Based on California census blocks, giving practical value.\n",
    "-  **Covers Full ML Lifecycle**: From EDA to preprocessing, training, evaluation, and explainability.\n",
    "-  **Multi-model Comparison**: Linear, Ridge, and Polynomial Ridge Regression.\n",
    "-  **Model Tuning**: Hyperparameter optimization using `GridSearchCV`.\n",
    "-  **Explainable AI**: Visualizations, residual analysis, and permutation importance.\n",
    "-  **Generative AI Integration**: Summarizes results using a GPT-style model.\n",
    "\n",
    "---\n",
    "\n",
    "##  What This Project Helps You Learn\n",
    "\n",
    "- How to explore and visualize real-world tabular data.\n",
    "- How to prepare data for regression tasks using scaling and feature engineering.\n",
    "- Differences between simple linear models and polynomial transformations.\n",
    "- How to compare models with evaluation metrics like MSE and R².\n",
    "- How to interpret residuals and feature importances.\n",
    "- How to integrate a text generation model (like GPT-2) to produce natural language summaries of ML outcomes.\n",
    "\n",
    "---\n",
    "\n",
    "##  Techniques & Tools Used\n",
    "\n",
    "| Category              | Tools / Libraries                              |\n",
    "|-----------------------|------------------------------------------------|\n",
    "| Data Loading          | `sklearn.datasets.fetch_california_housing`   |\n",
    "| Visualization         | `matplotlib`, `seaborn`                        |\n",
    "| Preprocessing         | `StandardScaler`, `PolynomialFeatures`        |\n",
    "| Models                | `LinearRegression`, `Ridge`                    |\n",
    "| Tuning                | `GridSearchCV`                                 |\n",
    "| Evaluation            | `mean_squared_error`, `r2_score`              |\n",
    "| Interpretability      | `permutation_importance`, residual plots       |\n",
    "| Generative Summary    | `transformers.pipeline(\"text-generation\")`     |\n",
    "\n",
    "---\n",
    "\n",
    "##  Results\n",
    "\n",
    "- **Best Model**: Polynomial Ridge Regression  \n",
    "- **R² Score**: ~0.65  \n",
    "- **Top Features**: MedInc, Latitude, Longitude, AveRooms, AveBedrms\n",
    "\n",
    "---\n",
    "\n",
    "##  Bonus: AI Summary\n",
    "\n",
    "Using GPT-2, we generated a natural language summary of the experiment. This simulates automated ML reporting using generative models.\n",
    "\n",
    "---\n",
    "\n",
    "##  Future Work\n",
    "\n",
    "- Integrate SHAP for deeper model explanations.\n",
    "- Try other regression models (SVR, XGBoost, etc.).\n",
    "- Turn this into a classification task using other datasets.\n",
    "- Deploy as an interactive app using Streamlit or Gradio.\n",
    "\n",
    "---"
   ]
  },
  {
   "cell_type": "code",
   "execution_count": 1,
   "id": "4ca670a9",
   "metadata": {},
   "outputs": [],
   "source": [
    "!pip install -q transformers datasets matplotlib seaborn scikit-learn"
   ]
  },
  {
   "cell_type": "code",
   "execution_count": 2,
   "id": "dc39591d",
   "metadata": {},
   "outputs": [
    {
     "name": "stderr",
     "output_type": "stream",
     "text": [
      "/opt/anaconda3/envs/llmenv/lib/python3.11/site-packages/tqdm/auto.py:21: TqdmWarning: IProgress not found. Please update jupyter and ipywidgets. See https://ipywidgets.readthedocs.io/en/stable/user_install.html\n",
      "  from .autonotebook import tqdm as notebook_tqdm\n"
     ]
    }
   ],
   "source": [
    "import numpy as np\n",
    "import pandas as pd\n",
    "import seaborn as sns\n",
    "import matplotlib.pyplot as plt\n",
    "from sklearn.datasets import fetch_california_housing\n",
    "from sklearn.model_selection import train_test_split, GridSearchCV\n",
    "from sklearn.linear_model import LinearRegression, Ridge\n",
    "from sklearn.preprocessing import StandardScaler, PolynomialFeatures\n",
    "from sklearn.pipeline import Pipeline\n",
    "from sklearn.metrics import mean_squared_error, r2_score\n",
    "from sklearn.inspection import permutation_importance\n",
    "from transformers import pipeline"
   ]
  },
  {
   "cell_type": "code",
   "execution_count": 3,
   "id": "79740753",
   "metadata": {},
   "outputs": [],
   "source": [
    "data = fetch_california_housing()\n",
    "df = pd.DataFrame(data.data, columns=data.feature_names)\n",
    "df[\"target\"] = data.target"
   ]
  },
  {
   "cell_type": "code",
   "execution_count": null,
   "id": "0924e3d0",
   "metadata": {},
   "outputs": [],
   "source": [
    "print(\"🧹 Dataset Preview:\")\n",
    "display(df.head())\n",
    "print(\"\\nCorrelation Heatmap:\")\n",
    "plt.figure(figsize=(10, 8))\n",
    "sns.heatmap(df.corr(), annot=True, cmap=\"coolwarm\")\n",
    "plt.title(\"Correlation Matrix\")\n",
    "plt.show()"
   ]
  },
  {
   "cell_type": "code",
   "execution_count": null,
   "id": "14ed666f",
   "metadata": {},
   "outputs": [],
   "source": [
    "X = df.drop(\"target\", axis=1)\n",
    "y = df[\"target\"]\n",
    "scaler = StandardScaler()\n",
    "X_scaled = scaler.fit_transform(X)\n",
    "X_train, X_test, y_train, y_test = train_test_split(X_scaled, y, test_size=0.2, random_state=42)"
   ]
  },
  {
   "cell_type": "code",
   "execution_count": null,
   "id": "4e600cc0",
   "metadata": {},
   "outputs": [],
   "source": [
    "models = {\n",
    "    \"Linear\": Pipeline([(\"lr\", LinearRegression())]),\n",
    "    \"Ridge\": Pipeline([(\"ridge\", Ridge(alpha=1.0))]),\n",
    "    \"PolyRidge\": Pipeline([\n",
    "        (\"poly\", PolynomialFeatures(degree=2, include_bias=False)),\n",
    "        (\"ridge\", Ridge(alpha=1.0))\n",
    "    ])\n",
    "}\n",
    "\n",
    "results = []\n",
    "for name, model in models.items():\n",
    "    model.fit(X_train, y_train)\n",
    "    y_pred = model.predict(X_test)\n",
    "    results.append({\n",
    "        \"Model\": name,\n",
    "        \"MSE\": mean_squared_error(y_test, y_pred),\n",
    "        \"R2\": r2_score(y_test, y_pred)\n",
    "    })"
   ]
  },
  {
   "cell_type": "code",
   "execution_count": null,
   "id": "b68819f7",
   "metadata": {},
   "outputs": [],
   "source": [
    "# === RESULTS TABLE ===\n",
    "results_df = pd.DataFrame(results)\n",
    "print(\"\\n Model Comparison Table:\")\n",
    "display(results_df.sort_values(\"R2\", ascending=False))"
   ]
  },
  {
   "cell_type": "code",
   "execution_count": null,
   "id": "1ab063bf",
   "metadata": {},
   "outputs": [],
   "source": []
  }
 ],
 "metadata": {
  "kernelspec": {
   "display_name": "llmenv",
   "language": "python",
   "name": "python3"
  },
  "language_info": {
   "codemirror_mode": {
    "name": "ipython",
    "version": 3
   },
   "file_extension": ".py",
   "mimetype": "text/x-python",
   "name": "python",
   "nbconvert_exporter": "python",
   "pygments_lexer": "ipython3",
   "version": "3.11.9"
  }
 },
 "nbformat": 4,
 "nbformat_minor": 5
}
