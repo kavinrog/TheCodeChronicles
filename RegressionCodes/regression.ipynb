{
 "cells": [
  {
   "cell_type": "markdown",
   "metadata": {},
   "source": [
    "## Use Scikit-learn to train a Multiple Linear Regression model"
   ]
  },
  {
   "cell_type": "code",
   "execution_count": null,
   "metadata": {},
   "outputs": [
    {
     "name": "stdout",
     "output_type": "stream",
     "text": [
      "Coefficients: [0.6 1.2]\n",
      "Intercept: -3.552713678800501e-15\n",
      "Predictions: [6.]\n"
     ]
    }
   ],
   "source": [
    "from sklearn.linear_model import LinearRegression\n",
    "from sklearn.model_selection import train_test_split\n",
    "import pandas as pd \n",
    "\n",
    "data = pd.DataFrame({\n",
    "    'Feature1': [1, 2, 3, 4, 5],\n",
    "    'Feature2': [2, 4, 6, 8, 10],\n",
    "    'Target': [3, 6, 9, 12, 15]\n",
    "})\n",
    "\n",
    "X = data[['Feature1', 'Feature2']]\n",
    "Y = data['Target']\n",
    "\n",
    "X_train, X_test, y_train, y_test = train_test_split(X, Y, test_size=0.2, random_state=42)\n",
    "\n",
    "model = LinearRegression()\n",
    "model.fit(X_train, y_train)\n",
    "\n",
    "print(\"Coefficients:\", model.coef_)\n",
    "print(\"Intercept:\", model.intercept_)\n",
    "print(\"Predictions:\", model.predict(X_test))"
   ]
  },
  {
   "cell_type": "markdown",
   "metadata": {},
   "source": [
    "## Implement Gradient Descent for Linear Regression"
   ]
  },
  {
   "cell_type": "code",
   "execution_count": 2,
   "metadata": {},
   "outputs": [
    {
     "name": "stdout",
     "output_type": "stream",
     "text": [
      "[1.87964642] 0.4344656480762931\n"
     ]
    }
   ],
   "source": [
    "import numpy as np \n",
    "\n",
    "def gradient_function(X, y , learning_rate = 0.001, iterations = 1000):\n",
    "    n_sample, n_features = X.shape\n",
    "    weights = np.zeros(n_features)\n",
    "    bias = 0 \n",
    "    \n",
    "    for _ in range(iterations):\n",
    "        y_pred = np.dot(X, weights) + bias\n",
    "        \n",
    "        dw = (1/n_sample) * np.dot(X.T, (y_pred - y))\n",
    "        db = (1/n_sample) * np.sum(y_pred-y)  \n",
    "        \n",
    "        weights -= learning_rate * dw\n",
    "        bias -= learning_rate * db\n",
    "    \n",
    "    return weights, bias\n",
    "\n",
    "X = np.array([[1], [2], [3], [4], [5]])\n",
    "y = np.array([2, 4, 6, 8 ,10])\n",
    "\n",
    "weights, bias = gradient_function(X, y)\n",
    "print(weights, bias)"
   ]
  },
  {
   "cell_type": "code",
   "execution_count": null,
   "metadata": {},
   "outputs": [],
   "source": []
  }
 ],
 "metadata": {
  "kernelspec": {
   "display_name": "base",
   "language": "python",
   "name": "python3"
  },
  "language_info": {
   "codemirror_mode": {
    "name": "ipython",
    "version": 3
   },
   "file_extension": ".py",
   "mimetype": "text/x-python",
   "name": "python",
   "nbconvert_exporter": "python",
   "pygments_lexer": "ipython3",
   "version": "3.11.7"
  }
 },
 "nbformat": 4,
 "nbformat_minor": 2
}
