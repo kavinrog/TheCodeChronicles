{
 "cells": [
  {
   "cell_type": "code",
   "execution_count": 4,
   "id": "6e188ddc",
   "metadata": {},
   "outputs": [],
   "source": [
    "import torch\n",
    "import torch.nn as nn\n",
    "import torch.nn.functional as F \n",
    "import torch.optim as optim"
   ]
  },
  {
   "cell_type": "code",
   "execution_count": 8,
   "id": "a13575f4",
   "metadata": {},
   "outputs": [],
   "source": [
    "class TinyModel(nn.Module):\n",
    "    def __init__(self):\n",
    "        super(TinyModel, self).__init__()\n",
    "        self.fc1 = nn.Linear(10,5)\n",
    "        self.fc2 = nn.Linear(5, 2)\n",
    "    def forward(self, x):\n",
    "        x = F.relu(self.fc1(x))\n",
    "        x = self.fc2(x)\n",
    "        return x\n",
    "    \n",
    "model = TinyModel()\n",
    "optimiser = optim.Adam(model.parameters(), lr = 0.001)\n",
    "criterion = nn.CrossEntropyLoss()\n",
    "    "
   ]
  },
  {
   "cell_type": "code",
   "execution_count": null,
   "id": "9a01289c",
   "metadata": {},
   "outputs": [],
   "source": []
  },
  {
   "cell_type": "code",
   "execution_count": 9,
   "id": "087d4776",
   "metadata": {},
   "outputs": [
    {
     "name": "stdout",
     "output_type": "stream",
     "text": [
      "Epoch [1/10], Loss: 0.7080\n",
      "Epoch [2/10], Loss: 0.7144\n",
      "Epoch [3/10], Loss: 0.7359\n",
      "Epoch [4/10], Loss: 0.6843\n",
      "Epoch [5/10], Loss: 0.6813\n",
      "Epoch [6/10], Loss: 0.6817\n",
      "Epoch [7/10], Loss: 0.6757\n",
      "Epoch [8/10], Loss: 0.6879\n",
      "Epoch [9/10], Loss: 0.6944\n",
      "Epoch [10/10], Loss: 0.6724\n"
     ]
    }
   ],
   "source": [
    "num_of_epochs = 10\n",
    "for epoch in range(num_of_epochs):\n",
    "    inputs = torch.randn(32, 10)\n",
    "    targets = torch.randint(0, 2, (32,))\n",
    "    \n",
    "    optimiser.zero_grad()\n",
    "    outputs = model(inputs)\n",
    "    loss = criterion(outputs, targets)\n",
    "    loss.backward()\n",
    "    optimiser.step()\n",
    "    print(f'Epoch [{epoch+1}/{num_of_epochs}], Loss: {loss.item():.4f}')    "
   ]
  },
  {
   "cell_type": "code",
   "execution_count": 12,
   "id": "7801dbad",
   "metadata": {},
   "outputs": [
    {
     "name": "stdout",
     "output_type": "stream",
     "text": [
      "Outputs: torch.Size([5, 2])\n"
     ]
    }
   ],
   "source": [
    "with torch.no_grad():\n",
    "    inputs = torch.randn(5, 10)\n",
    "    outputs = model(inputs)\n",
    "    print(\"Outputs:\", outputs.shape)"
   ]
  },
  {
   "cell_type": "code",
   "execution_count": null,
   "id": "d9b9c37f",
   "metadata": {},
   "outputs": [
    {
     "ename": "SyntaxError",
     "evalue": "invalid syntax (495439734.py, line 1)",
     "output_type": "error",
     "traceback": [
      "\u001b[0;36m  Cell \u001b[0;32mIn[13], line 1\u001b[0;36m\u001b[0m\n\u001b[0;31m    FROM python:3.10-slim\u001b[0m\n\u001b[0m         ^\u001b[0m\n\u001b[0;31mSyntaxError\u001b[0m\u001b[0;31m:\u001b[0m invalid syntax\n"
     ]
    }
   ],
   "source": [
    "class CustomDataset(torch.utils.data.Dataset):\n",
    "    def __init__(self, size=1000):\n",
    "        self.data = torch.randn(size, 10)\n",
    "        self.targets = torch.randint(0, 2, (size,))\n",
    "    \n",
    "    def __len__(self):\n",
    "        return len(self.data)\n",
    "    \n",
    "    def __getitem__(self, idx):\n",
    "        return self.data[idx], self.targets[idx]"
   ]
  },
  {
   "cell_type": "code",
   "execution_count": null,
   "id": "ae8761b9",
   "metadata": {},
   "outputs": [],
   "source": [
    "dataset = CustomDataset(size=1000)\n",
    "dataloader = torch.utils.data.DataLoader(dataset, batch_size=32, shuffle=True)      "
   ]
  },
  {
   "cell_type": "code",
   "execution_count": 1,
   "id": "8f1b393a",
   "metadata": {},
   "outputs": [
    {
     "ename": "NameError",
     "evalue": "name 'num_of_epochs' is not defined",
     "output_type": "error",
     "traceback": [
      "\u001b[0;31m---------------------------------------------------------------------------\u001b[0m",
      "\u001b[0;31mNameError\u001b[0m                                 Traceback (most recent call last)",
      "Cell \u001b[0;32mIn[1], line 1\u001b[0m\n\u001b[0;32m----> 1\u001b[0m \u001b[38;5;28;01mfor\u001b[39;00m epoch \u001b[38;5;129;01min\u001b[39;00m \u001b[38;5;28mrange\u001b[39m(num_of_epochs):\n\u001b[1;32m      2\u001b[0m     \u001b[38;5;28;01mfor\u001b[39;00m inputs, targets \u001b[38;5;129;01min\u001b[39;00m dataloader:\n\u001b[1;32m      3\u001b[0m         optimiser\u001b[38;5;241m.\u001b[39mzero_grad()\n",
      "\u001b[0;31mNameError\u001b[0m: name 'num_of_epochs' is not defined"
     ]
    }
   ],
   "source": [
    "for epoch in range(num_of_epochs):\n",
    "    for inputs, targets in dataloader:\n",
    "        optimiser.zero_grad()\n",
    "        outputs = model(inputs)\n",
    "        loss = criterion(outputs, targets)\n",
    "        loss.backward()\n",
    "        optimiser.step()\n",
    "    print(f'Epoch [{epoch+1}/{num_of_epochs}], Loss: {loss.item():.4f}')            "
   ]
  },
  {
   "cell_type": "code",
   "execution_count": null,
   "id": "37458057",
   "metadata": {},
   "outputs": [],
   "source": [
    "with torch.no_grad():\n",
    "    inputs = torch.randn(5, 10)\n",
    "    outputs = model(inputs)\n",
    "    print(\"Outputs:\", outputs.shape)    "
   ]
  }
 ],
 "metadata": {
  "kernelspec": {
   "display_name": "base",
   "language": "python",
   "name": "python3"
  },
  "language_info": {
   "codemirror_mode": {
    "name": "ipython",
    "version": 3
   },
   "file_extension": ".py",
   "mimetype": "text/x-python",
   "name": "python",
   "nbconvert_exporter": "python",
   "pygments_lexer": "ipython3",
   "version": "3.11.7"
  }
 },
 "nbformat": 4,
 "nbformat_minor": 5
}
