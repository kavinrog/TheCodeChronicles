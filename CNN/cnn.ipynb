{
 "cells": [
  {
   "cell_type": "code",
   "execution_count": 1,
   "id": "93bf96a8",
   "metadata": {},
   "outputs": [],
   "source": [
    "import torch \n",
    "import torch.nn as nn\n",
    "import torch.nn.functional as F"
   ]
  },
  {
   "cell_type": "code",
   "execution_count": null,
   "id": "63a4a8eb",
   "metadata": {},
   "outputs": [],
   "source": [
    "class Conv2D(nn.Module):\n",
    "    def __init__(self):\n",
    "        super(Conv2D, self).__init__()\n",
    "        self.Conv2d = nn.Conv2d(3, 16, kernel_size = 3, stride = 1, padding = 1)\n",
    "        self.Linear = nn.Linear(16 * 32 * 32, 10)\n",
    "        \n",
    "    def forward(self, x):\n",
    "        x = self.Conv2d(x)\n",
    "        x = F.relu(x)\n",
    "        x = x.view(x.size(0), -1)\n",
    "        x = self.Linear(x)\n",
    "        return x "
   ]
  },
  {
   "cell_type": "code",
   "execution_count": null,
   "id": "438600de",
   "metadata": {},
   "outputs": [],
   "source": [
    "model = Conv2D()\n",
    "\n",
    "criterion = nn.CrossEntropyLoss()\n",
    "optimizer = torch.optim.Adam(model.parameters(), lr = 0.001)\n",
    "\n",
    "input_tensor = torch.randn(1, 3, 32, 32)\n",
    "\n",
    "target_tensor = torch.tensor([1])  # Example target class\n",
    "output = model(input_tensor)\n",
    "loss = criterion(output, target_tensor)\n",
    "loss.backward()\n",
    "optimizer.step()\n",
    "print(\"Output:\", output)\n",
    "print(\"Loss:\", loss.item())"
   ]
  }
 ],
 "metadata": {
  "kernelspec": {
   "display_name": "base",
   "language": "python",
   "name": "python3"
  },
  "language_info": {
   "codemirror_mode": {
    "name": "ipython",
    "version": 3
   },
   "file_extension": ".py",
   "mimetype": "text/x-python",
   "name": "python",
   "nbconvert_exporter": "python",
   "pygments_lexer": "ipython3",
   "version": "3.11.7"
  }
 },
 "nbformat": 4,
 "nbformat_minor": 5
}
